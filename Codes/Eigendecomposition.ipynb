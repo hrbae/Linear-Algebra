{
  "nbformat": 4,
  "nbformat_minor": 0,
  "metadata": {
    "colab": {
      "provenance": [],
      "authorship_tag": "ABX9TyPMI1dlQTGEnDj9Lo0wayGX",
      "include_colab_link": true
    },
    "kernelspec": {
      "name": "python3",
      "display_name": "Python 3"
    },
    "language_info": {
      "name": "python"
    }
  },
  "cells": [
    {
      "cell_type": "markdown",
      "metadata": {
        "id": "view-in-github",
        "colab_type": "text"
      },
      "source": [
        "<a href=\"https://colab.research.google.com/github/hrbae/Linear-Algebra/blob/main/Codes/Eigendecomposition.ipynb\" target=\"_parent\"><img src=\"https://colab.research.google.com/assets/colab-badge.svg\" alt=\"Open In Colab\"/></a>"
      ]
    },
    {
      "cell_type": "code",
      "execution_count": 2,
      "metadata": {
        "id": "vAOXrDtXBHpx"
      },
      "outputs": [],
      "source": [
        "import numpy as np"
      ]
    },
    {
      "cell_type": "markdown",
      "source": [
        "A=![image.png](data:image/png;base64,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)"
      ],
      "metadata": {
        "id": "yqiXnlflt-xS"
      }
    },
    {
      "cell_type": "code",
      "source": [
        "A = np.array([[60., 30., 20.],\n",
        "              [30., 20., 15.],\n",
        "              [20., 15., 12.]])\n",
        "\n",
        "w, V = np.linalg.eig(A)\n",
        "w1, w2, w3 = w\n",
        "v1 = V[:, 0:1]\n",
        "v2 = V[:, 1:2]\n",
        "v3 = V[:, 2:3]\n",
        "A1 = v1 @ v1.T #dot product\n",
        "A2 = v2 @ v2.T\n",
        "A3 = v3 @ v3.T"
      ],
      "metadata": {
        "id": "H1mQL5H0BTJW"
      },
      "execution_count": 3,
      "outputs": []
    },
    {
      "cell_type": "code",
      "source": [
        "v1"
      ],
      "metadata": {
        "colab": {
          "base_uri": "https://localhost:8080/"
        },
        "id": "Gx9aIpwMtTiV",
        "outputId": "59afc9a4-7a8f-4d11-f192-aed44fb62e23"
      },
      "execution_count": 4,
      "outputs": [
        {
          "output_type": "execute_result",
          "data": {
            "text/plain": [
              "array([[0.82704493],\n",
              "       [0.4598639 ],\n",
              "       [0.32329844]])"
            ]
          },
          "metadata": {},
          "execution_count": 4
        }
      ]
    },
    {
      "cell_type": "code",
      "source": [
        "v1.T"
      ],
      "metadata": {
        "colab": {
          "base_uri": "https://localhost:8080/"
        },
        "id": "mtvWcnVnuOLN",
        "outputId": "e9ab82cb-0bbf-4d55-c7ff-09edeee65093"
      },
      "execution_count": 5,
      "outputs": [
        {
          "output_type": "execute_result",
          "data": {
            "text/plain": [
              "array([[0.82704493, 0.4598639 , 0.32329844]])"
            ]
          },
          "metadata": {},
          "execution_count": 5
        }
      ]
    },
    {
      "cell_type": "code",
      "source": [
        "A1"
      ],
      "metadata": {
        "colab": {
          "base_uri": "https://localhost:8080/"
        },
        "id": "euD--MznBj77",
        "outputId": "3876eebe-e814-431b-ecd7-44281701d0a6"
      },
      "execution_count": 4,
      "outputs": [
        {
          "output_type": "execute_result",
          "data": {
            "text/plain": [
              "array([[0.68400331, 0.38032811, 0.26738233],\n",
              "       [0.38032811, 0.21147481, 0.14867328],\n",
              "       [0.26738233, 0.14867328, 0.10452188]])"
            ]
          },
          "metadata": {},
          "execution_count": 4
        }
      ]
    },
    {
      "cell_type": "code",
      "source": [
        "w1 * A1 + w2 * A2 + w3 * A3"
      ],
      "metadata": {
        "colab": {
          "base_uri": "https://localhost:8080/"
        },
        "id": "ARmc-L1gJlvN",
        "outputId": "6538a4f6-b377-43be-cc82-370476975046"
      },
      "execution_count": 7,
      "outputs": [
        {
          "output_type": "execute_result",
          "data": {
            "text/plain": [
              "array([[60., 30., 20.],\n",
              "       [30., 20., 15.],\n",
              "       [20., 15., 12.]])"
            ]
          },
          "metadata": {},
          "execution_count": 7
        }
      ]
    }
  ]
}